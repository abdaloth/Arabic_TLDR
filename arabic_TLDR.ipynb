{
 "cells": [
  {
   "cell_type": "code",
   "execution_count": 2,
   "metadata": {
    "collapsed": true
   },
   "outputs": [],
   "source": [
    "from nltk.stem.isri import ISRIStemmer\n",
    "from nltk.corpus import stopwords\n",
    "from sklearn.feature_extraction.text import TfidfTransformer, CountVectorizer\n",
    "import networkx as nx\n",
    "import re\n",
    "\n",
    "stemmer = ISRIStemmer()"
   ]
  },
  {
   "cell_type": "code",
   "execution_count": 3,
   "metadata": {
    "scrolled": true
   },
   "outputs": [],
   "source": [
    "def sentence_stem(sentence):\n",
    "    stemmed_sentence = ''\n",
    "    arr = []\n",
    "    for word in sentence.split():\n",
    "        if word not in (stopwords.words('arabic')):\n",
    "            arr.append(stemmer.stem(word))\n",
    "    stemmed_sentence = ' '.join(arr)\n",
    "    return stemmed_sentence\n"
   ]
  },
  {
   "cell_type": "code",
   "execution_count": 49,
   "metadata": {},
   "outputs": [
    {
     "name": "stdout",
     "output_type": "stream",
     "text": [
      "\n",
      "\n",
      "وهذا صحيح   ولكن لأن البينة على المدعي  ولأننا لم نؤت من العلم إلا قليلا  أنا من يطالب الآن بتقديم البينة على كيفية تحكم مادة لطيفة شفافة  لم تخضع لبشر بعد نبي الله سليمان  بجسم مادي غليظ  كجسد الإنسان  متجاوزين الحل الأبسط وهو إصابته بمرض نفسي يمكن علاجه  \n",
      "\n",
      "  ولكن الحقيقة هي أن كل ما نراه ونسمعه بهذا الشأن ليس أكثر من خلط شائع بين ادعاءات المس  وأمراض عصبية ونفسية أثبت العلم وجودها فعلا\n"
     ]
    }
   ],
   "source": [
    "def tldr_1(article):\n",
    "    article = re.sub(r'[^\\w\\s\\.]', ' ', article)\n",
    "    sentences = article.split('.')\n",
    "    stemmed_sentences = []\n",
    "    for sentence in sentences:\n",
    "        stemmed_sentences.append(sentence_stem(sentence))\n",
    "    \n",
    "    bagofwords_matrix = CountVectorizer().fit_transform(stemmed_sentences)\n",
    "    normalized_bow_matrix = TfidfTransformer().fit_transform(bagofwords_matrix)\n",
    "    \n",
    "    similarity_matrix = normalized_bow_matrix * normalized_bow_matrix.T\n",
    "    \n",
    "    similarity_graph = nx.from_scipy_sparse_matrix(similarity_matrix)\n",
    "    scores = nx.pagerank(similarity_graph)\n",
    "    \n",
    "    return sorted(((scores[i],s) for i,s in enumerate(sentences)), reverse=True)\n",
    "\n",
    "f = open(\"article\", \"r\")\n",
    "article = f.read()\n",
    "smry = tldr_1(article)\n",
    "print(smry[0][1], smry[1][1])"
   ]
  },
  {
   "cell_type": "code",
   "execution_count": 40,
   "metadata": {},
   "outputs": [],
   "source": [
    "from math import log10\n",
    "\n",
    "def similarity(s1, s2):\n",
    "    stemsen1 = sentence_stem(s1)\n",
    "    stemsen2 = sentence_stem(s2)\n",
    "    wc1 = len(stemsen1.split())\n",
    "    wc2 = len(stemsen2.split())\n",
    "    common_wc = len(set(stemsen1.split()) & set(stemsen2.split()))\n",
    "    if wc1 ==0 or wc2 ==0:\n",
    "        return 0\n",
    "    if (log10(wc1)+log10(wc2)) == 0:\n",
    "        return 0\n",
    "    return common_wc/(log10(wc1)+log10(wc2))"
   ]
  },
  {
   "cell_type": "code",
   "execution_count": 63,
   "metadata": {},
   "outputs": [
    {
     "name": "stdout",
     "output_type": "stream",
     "text": [
      "\n",
      "\n",
      "وهذا صحيح   ولكن لأن البينة على المدعي  ولأننا لم نؤت من العلم إلا قليلا  أنا من يطالب الآن بتقديم البينة على كيفية تحكم مادة لطيفة شفافة  لم تخضع لبشر بعد نبي الله سليمان  بجسم مادي غليظ  كجسد الإنسان  متجاوزين الحل الأبسط وهو إصابته بمرض نفسي يمكن علاجه  \n",
      "\n",
      " \n",
      "\n",
      "وفي ذلك المقال تحدثت عن عدم وجود نص شرعي صريح يثبت إمكانية دخول الجان في جسد الانسان  وأن النصوص الواردة بهذا الخصوص إما جاءت على سبيل التمثيل والتشبيه  أو أنها ضعيفة وموضوعة  في حين قد يسيء الناس فهم الصحيح منها ويعتبرونه دليلا على إمكانية التلبس\n"
     ]
    }
   ],
   "source": [
    "def tldr_2(article):\n",
    "    article = re.sub(r'[^\\w\\s\\.]', ' ', article)\n",
    "    sentences = article.split('.')\n",
    "    graph = nx.Graph()\n",
    "    graph.add_nodes_from(sentences)\n",
    "    for sen1 in graph.nodes():\n",
    "        for sen2 in graph.nodes():\n",
    "            edge_w = similarity(sen1, sen2)\n",
    "            if edge_w !=0:\n",
    "                graph.add_edge(sen1, sen2, weight=edge_w)\n",
    "    \n",
    "    scores = nx.pagerank(graph)\n",
    "    return sorted([(value, key) for key, value in scores.items()], reverse = True)\n",
    "\n",
    "\n",
    "f = open(\"article\", \"r\")\n",
    "article = f.read()\n",
    "smry = tldr_2(article)\n",
    "print(smry[0][1], smry[1][1])"
   ]
  }
 ],
 "metadata": {
  "kernelspec": {
   "display_name": "Python 3",
   "language": "python",
   "name": "python3"
  },
  "language_info": {
   "codemirror_mode": {
    "name": "ipython",
    "version": 3
   },
   "file_extension": ".py",
   "mimetype": "text/x-python",
   "name": "python",
   "nbconvert_exporter": "python",
   "pygments_lexer": "ipython3",
   "version": "3.6.1"
  }
 },
 "nbformat": 4,
 "nbformat_minor": 2
}
