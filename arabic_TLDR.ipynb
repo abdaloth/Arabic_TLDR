{
 "cells": [
  {
   "cell_type": "code",
   "execution_count": 1,
   "metadata": {
    "collapsed": true
   },
   "outputs": [],
   "source": [
    "from sklearn.feature_extraction.text import TfidfTransformer, CountVectorizer\n",
    "from nltk.stem.isri import ISRIStemmer\n",
    "from nltk.corpus import stopwords\n",
    "from math import log10\n",
    "import networkx as nx\n",
    "import re\n",
    "\n",
    "stemmer = ISRIStemmer()"
   ]
  },
  {
   "cell_type": "code",
   "execution_count": 2,
   "metadata": {
    "collapsed": true
   },
   "outputs": [],
   "source": [
    "# # download the stopwords if you dont have them\n",
    "# import nltk\n",
    "# nltk.download()"
   ]
  },
  {
   "cell_type": "code",
   "execution_count": 3,
   "metadata": {
    "collapsed": true,
    "scrolled": true
   },
   "outputs": [],
   "source": [
    "def sentence_stem(sentence):\n",
    "    stemmed_sentence = ''\n",
    "    arr = []\n",
    "    for word in sentence.strip().split():\n",
    "        if word not in (stopwords.words('arabic')):\n",
    "            arr.append(stemmer.stem(word))\n",
    "    stemmed_sentence = ' '.join(arr)\n",
    "    return stemmed_sentence\n",
    "\n",
    "def similarity(s1, s2):\n",
    "    stemsen1 = sentence_stem(s1)\n",
    "    stemsen2 = sentence_stem(s2)\n",
    "    wc1 = len(stemsen1.split())\n",
    "    wc2 = len(stemsen2.split())\n",
    "    common_wc = len(set(stemsen1.split()) & set(stemsen2.split()))\n",
    "    if wc1 ==0 or wc2 ==0:\n",
    "        return 0\n",
    "    if (log10(wc1)+log10(wc2)) == 0:\n",
    "        return 0\n",
    "    return common_wc/(log10(wc1)+log10(wc2))"
   ]
  },
  {
   "cell_type": "code",
   "execution_count": 4,
   "metadata": {},
   "outputs": [],
   "source": [
    "def tldr_matrix(article):\n",
    "    article = re.sub(r'[^\\w\\s\\.]', ' ', article)\n",
    "    sentences = article.split('.')\n",
    "    stemmed_sentences = []\n",
    "    for sentence in sentences:\n",
    "        stemmed_sentences.append(sentence_stem(sentence))\n",
    "    \n",
    "    bagofwords_matrix = CountVectorizer().fit_transform(stemmed_sentences)\n",
    "    # normalize with TF-IDF\n",
    "    bagofwords_matrix = TfidfTransformer().fit_transform(bagofwords_matrix)\n",
    "    \n",
    "    # mirror the matrix onto itself to get the similarity edges between sentences\n",
    "    similarity_matrix = bagofwords_matrix * bagofwords_matrix.T\n",
    "    \n",
    "    similarity_graph = nx.from_scipy_sparse_matrix(similarity_matrix)\n",
    "    scores = nx.pagerank(similarity_graph)\n",
    "    \n",
    "    return sorted(((scores[i],s) for i,s in enumerate(sentences)), reverse=True)\n",
    "\n",
    "\n",
    "# this method is more expensive but is more faithful to the paper\n",
    "def tldr_graph(article):\n",
    "    article = re.sub(r'[^\\w\\s\\.]', ' ', article)\n",
    "    sentences = article.split('.')\n",
    "    graph = nx.Graph()\n",
    "    graph.add_nodes_from(sentences)\n",
    "    for sen1 in graph.nodes():\n",
    "        for sen2 in graph.nodes():\n",
    "            edge_w = similarity(sen1, sen2)\n",
    "            if edge_w !=0:\n",
    "                graph.add_edge(sen1, sen2, weight=edge_w)\n",
    "    \n",
    "    scores = nx.pagerank(graph)\n",
    "    return sorted([(value, key) for key, value in scores.items()], reverse = True)"
   ]
  },
  {
   "cell_type": "code",
   "execution_count": 5,
   "metadata": {},
   "outputs": [],
   "source": [
    "def summarize(article, method='m', factor = 2):\n",
    "    if method == 'm':\n",
    "        smry = tldr_matrix(article)\n",
    "    elif method == 'g':\n",
    "        smry = tldr_graph(article)\n",
    "    else:\n",
    "        raise ValueError('invalid method')\n",
    "    return '\\n'.join([_[1] for _ in smry[:factor]])"
   ]
  },
  {
   "cell_type": "code",
   "execution_count": 8,
   "metadata": {},
   "outputs": [
    {
     "name": "stdout",
     "output_type": "stream",
     "text": [
      "graph method\n",
      " بما أننا في بداية العام الدراسي الجديد أسعدني وكل مهتم أن التعليم يفكرون في إضافة مادة تعنى بالادخار والتخطيط المالي وهذه خطوة إذا تمت ستساهم في نقل الادخار من ثقافة إلى تطبيق مع مرور الوقت وزيادة التوعية  في منظوري الشخصي لا شيء يثبت اهتمام الناس بالادخار من القبول الذي وجده المقال الماضي من قراء المقالات وكذلك تعدد المقالات التي تناولت الادخار في الفترة الماضية ولست أولهم ولا أنسى الدورات التدريبية التي حالت مدن المملكة وشهدت حضور المهتمين  إذا الادخار أصبح حالة تلفت وتستقطب الناس إليها\n",
      "\n",
      "لكي لا نعيد التجارب السابقة في الادخار والحرية المالية وحتى لا نبدأ من الصفر مرة أخرى يجب علينا فهم كيف يتصرف الأفراد بدخولهم   وماهي الكماليات فعلا التي تكلف الناس عدم القدرة على الادخار   وهل الادخار يأتي بحفظ المال  أدخر أولا  أم بالعمل أكثر  تعزيز الدخل  ظروف اليوم تغير من طبيعة قدرة الفرد الحصول على دخل إضافي ليس كما كان سابقا\n",
      "matrix method\n",
      "\n",
      "لكي لا نعيد التجارب السابقة في الادخار والحرية المالية وحتى لا نبدأ من الصفر مرة أخرى يجب علينا فهم كيف يتصرف الأفراد بدخولهم   وماهي الكماليات فعلا التي تكلف الناس عدم القدرة على الادخار   وهل الادخار يأتي بحفظ المال  أدخر أولا  أم بالعمل أكثر  تعزيز الدخل  ظروف اليوم تغير من طبيعة قدرة الفرد الحصول على دخل إضافي ليس كما كان سابقا\n",
      " بما أننا في بداية العام الدراسي الجديد أسعدني وكل مهتم أن التعليم يفكرون في إضافة مادة تعنى بالادخار والتخطيط المالي وهذه خطوة إذا تمت ستساهم في نقل الادخار من ثقافة إلى تطبيق مع مرور الوقت وزيادة التوعية  في منظوري الشخصي لا شيء يثبت اهتمام الناس بالادخار من القبول الذي وجده المقال الماضي من قراء المقالات وكذلك تعدد المقالات التي تناولت الادخار في الفترة الماضية ولست أولهم ولا أنسى الدورات التدريبية التي حالت مدن المملكة وشهدت حضور المهتمين  إذا الادخار أصبح حالة تلفت وتستقطب الناس إليها\n"
     ]
    }
   ],
   "source": [
    "# TODO: return sentences in their original order in the article?\n",
    "f = open('article.txt', encoding='utf-8')\n",
    "article = f.read()\n",
    "\n",
    "smry1 = summarize(article, method='g')\n",
    "print('graph method')\n",
    "print(smry1)\n",
    "smry2 = summarize(article)\n",
    "print('matrix method')\n",
    "print(smry2)"
   ]
  }
 ],
 "metadata": {
  "kernelspec": {
   "display_name": "Python 3",
   "language": "python",
   "name": "python3"
  },
  "language_info": {
   "codemirror_mode": {
    "name": "ipython",
    "version": 3
   },
   "file_extension": ".py",
   "mimetype": "text/x-python",
   "name": "python",
   "nbconvert_exporter": "python",
   "pygments_lexer": "ipython3",
   "version": "3.6.3"
  }
 },
 "nbformat": 4,
 "nbformat_minor": 2
}
